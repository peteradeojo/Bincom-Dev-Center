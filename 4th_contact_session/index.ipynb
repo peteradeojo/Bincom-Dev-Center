{
 "cells": [
  {
   "cell_type": "code",
   "execution_count": 31,
   "metadata": {},
   "outputs": [],
   "source": [
    "import pandas as pd\n",
    "import numpy as np\n",
    "\n",
    "from sklearn.model_selection import train_test_split\n",
    "from sklearn.linear_model import LinearRegression"
   ]
  },
  {
   "cell_type": "code",
   "execution_count": 2,
   "metadata": {},
   "outputs": [],
   "source": [
    "df = pd.read_csv('./incd.csv')"
   ]
  },
  {
   "cell_type": "code",
   "execution_count": 3,
   "metadata": {},
   "outputs": [],
   "source": [
    "df.set_index(' FIPS', inplace=True)\n",
    "# df[' FIPS'].is_unique"
   ]
  },
  {
   "cell_type": "code",
   "execution_count": 4,
   "metadata": {},
   "outputs": [
    {
     "data": {
      "text/html": [
       "<div>\n",
       "<style scoped>\n",
       "    .dataframe tbody tr th:only-of-type {\n",
       "        vertical-align: middle;\n",
       "    }\n",
       "\n",
       "    .dataframe tbody tr th {\n",
       "        vertical-align: top;\n",
       "    }\n",
       "\n",
       "    .dataframe thead th {\n",
       "        text-align: right;\n",
       "    }\n",
       "</style>\n",
       "<table border=\"1\" class=\"dataframe\">\n",
       "  <thead>\n",
       "    <tr style=\"text-align: right;\">\n",
       "      <th></th>\n",
       "      <th>County</th>\n",
       "      <th>Age-Adjusted Incidence Rate(�) - cases per 100,000</th>\n",
       "      <th>Lower 95% Confidence Interval</th>\n",
       "      <th>Upper 95% Confidence Interval</th>\n",
       "      <th>Average Annual Count</th>\n",
       "      <th>Recent Trend</th>\n",
       "      <th>Recent 5-Year Trend (�) in Incidence Rates</th>\n",
       "      <th>Lower 95% Confidence Interval.1</th>\n",
       "      <th>Upper 95% Confidence Interval.1</th>\n",
       "    </tr>\n",
       "    <tr>\n",
       "      <th>FIPS</th>\n",
       "      <th></th>\n",
       "      <th></th>\n",
       "      <th></th>\n",
       "      <th></th>\n",
       "      <th></th>\n",
       "      <th></th>\n",
       "      <th></th>\n",
       "      <th></th>\n",
       "      <th></th>\n",
       "    </tr>\n",
       "  </thead>\n",
       "  <tbody>\n",
       "    <tr>\n",
       "      <th>0</th>\n",
       "      <td>US (SEER+NPCR)(1,10)</td>\n",
       "      <td>62.4</td>\n",
       "      <td>62.3</td>\n",
       "      <td>62.6</td>\n",
       "      <td>214614</td>\n",
       "      <td>falling</td>\n",
       "      <td>-2.5</td>\n",
       "      <td>-3</td>\n",
       "      <td>-2</td>\n",
       "    </tr>\n",
       "    <tr>\n",
       "      <th>1001</th>\n",
       "      <td>Autauga County, Alabama(6,10)</td>\n",
       "      <td>74.9</td>\n",
       "      <td>65.1</td>\n",
       "      <td>85.7</td>\n",
       "      <td>43</td>\n",
       "      <td>stable</td>\n",
       "      <td>0.5</td>\n",
       "      <td>-14.9</td>\n",
       "      <td>18.6</td>\n",
       "    </tr>\n",
       "    <tr>\n",
       "      <th>1003</th>\n",
       "      <td>Baldwin County, Alabama(6,10)</td>\n",
       "      <td>66.9</td>\n",
       "      <td>62.4</td>\n",
       "      <td>71.7</td>\n",
       "      <td>170</td>\n",
       "      <td>stable</td>\n",
       "      <td>3</td>\n",
       "      <td>-10.2</td>\n",
       "      <td>18.3</td>\n",
       "    </tr>\n",
       "    <tr>\n",
       "      <th>1005</th>\n",
       "      <td>Barbour County, Alabama(6,10)</td>\n",
       "      <td>74.6</td>\n",
       "      <td>61.8</td>\n",
       "      <td>89.4</td>\n",
       "      <td>25</td>\n",
       "      <td>stable</td>\n",
       "      <td>-6.4</td>\n",
       "      <td>-18.3</td>\n",
       "      <td>7.3</td>\n",
       "    </tr>\n",
       "    <tr>\n",
       "      <th>1007</th>\n",
       "      <td>Bibb County, Alabama(6,10)</td>\n",
       "      <td>86.4</td>\n",
       "      <td>71</td>\n",
       "      <td>104.2</td>\n",
       "      <td>23</td>\n",
       "      <td>stable</td>\n",
       "      <td>-4.5</td>\n",
       "      <td>-31.4</td>\n",
       "      <td>32.9</td>\n",
       "    </tr>\n",
       "  </tbody>\n",
       "</table>\n",
       "</div>"
      ],
      "text/plain": [
       "                              County  \\\n",
       " FIPS                                  \n",
       "0               US (SEER+NPCR)(1,10)   \n",
       "1001   Autauga County, Alabama(6,10)   \n",
       "1003   Baldwin County, Alabama(6,10)   \n",
       "1005   Barbour County, Alabama(6,10)   \n",
       "1007      Bibb County, Alabama(6,10)   \n",
       "\n",
       "      Age-Adjusted Incidence Rate(�) - cases per 100,000  \\\n",
       " FIPS                                                      \n",
       "0                                                   62.4   \n",
       "1001                                                74.9   \n",
       "1003                                                66.9   \n",
       "1005                                                74.6   \n",
       "1007                                                86.4   \n",
       "\n",
       "      Lower 95% Confidence Interval Upper 95% Confidence Interval  \\\n",
       " FIPS                                                               \n",
       "0                              62.3                          62.6   \n",
       "1001                           65.1                          85.7   \n",
       "1003                           62.4                          71.7   \n",
       "1005                           61.8                          89.4   \n",
       "1007                             71                         104.2   \n",
       "\n",
       "      Average Annual Count Recent Trend  \\\n",
       " FIPS                                     \n",
       "0                   214614      falling   \n",
       "1001                    43       stable   \n",
       "1003                   170       stable   \n",
       "1005                    25       stable   \n",
       "1007                    23       stable   \n",
       "\n",
       "      Recent 5-Year Trend (�) in Incidence Rates  \\\n",
       " FIPS                                              \n",
       "0                                           -2.5   \n",
       "1001                                         0.5   \n",
       "1003                                           3   \n",
       "1005                                        -6.4   \n",
       "1007                                        -4.5   \n",
       "\n",
       "      Lower 95% Confidence Interval.1 Upper 95% Confidence Interval.1  \n",
       " FIPS                                                                  \n",
       "0                                  -3                              -2  \n",
       "1001                            -14.9                            18.6  \n",
       "1003                            -10.2                            18.3  \n",
       "1005                            -18.3                             7.3  \n",
       "1007                            -31.4                            32.9  "
      ]
     },
     "execution_count": 4,
     "metadata": {},
     "output_type": "execute_result"
    }
   ],
   "source": [
    "df.head()"
   ]
  },
  {
   "cell_type": "code",
   "execution_count": 5,
   "metadata": {},
   "outputs": [
    {
     "data": {
      "text/plain": [
       " FIPS\n",
       "2013    3 or fewer\n",
       "2016    3 or fewer\n",
       "2020           131\n",
       "2050             6\n",
       "2060    3 or fewer\n",
       "Name: Average Annual Count, dtype: object"
      ]
     },
     "execution_count": 5,
     "metadata": {},
     "output_type": "execute_result"
    }
   ],
   "source": [
    "df.loc[2013:, 'Average Annual Count'].head()"
   ]
  },
  {
   "cell_type": "code",
   "execution_count": 6,
   "metadata": {},
   "outputs": [],
   "source": [
    "extr = df['Average Annual Count'].str.extract(r\"^(\\d+)\", expand=False)\n",
    "extr\n",
    "\n",
    "df['Average Annual Count'] = pd.to_numeric(extr)"
   ]
  },
  {
   "cell_type": "markdown",
   "metadata": {},
   "source": []
  },
  {
   "cell_type": "code",
   "execution_count": 7,
   "metadata": {},
   "outputs": [
    {
     "data": {
      "text/plain": [
       " FIPS\n",
       "0        62.4\n",
       "1001     74.9\n",
       "1003     66.9\n",
       "1005     74.6\n",
       "1007     86.4\n",
       "         ... \n",
       "56037    39.9\n",
       "56039    23.7\n",
       "56041    31.7\n",
       "56043      50\n",
       "56045    44.9\n",
       "Name: Age-Adjusted Incidence Rate(�) - cases per 100,000, Length: 3141, dtype: object"
      ]
     },
     "execution_count": 7,
     "metadata": {},
     "output_type": "execute_result"
    }
   ],
   "source": [
    "df['Age-Adjusted Incidence Rate(�) - cases per 100,000']"
   ]
  },
  {
   "cell_type": "code",
   "execution_count": 8,
   "metadata": {},
   "outputs": [],
   "source": [
    "regex = r\"^(\\d{2,3})(\\.)?(\\d{2})?\"\n",
    "\n",
    "\n",
    "def is_number(x):\n",
    "    '''\n",
    "        Takes a word and checks if Number (Integer or Float).\n",
    "    '''\n",
    "    try:\n",
    "        # only integers and float converts safely\n",
    "        num = float(x)\n",
    "        return True\n",
    "    except ValueError as e:  # not convertable to float\n",
    "        return False"
   ]
  },
  {
   "cell_type": "code",
   "execution_count": 9,
   "metadata": {},
   "outputs": [],
   "source": [
    "# df['Average Annual Count'].isnull().sum() / len(df)\n",
    "# av_extr = df['Age-Adjusted Incidence Rate(�) - cases per 100,000'].str.extract(regex, expand=False)\n",
    "# av_extr.head(30)\n",
    "working_df = df[[\n",
    "    'Age-Adjusted Incidence Rate(�) - cases per 100,000',\n",
    "    'Average Annual Count'\n",
    "]].loc[df['Age-Adjusted Incidence Rate(�) - cases per 100,000'].apply(\n",
    "    is_number)]\n"
   ]
  },
  {
   "cell_type": "code",
   "execution_count": 10,
   "metadata": {},
   "outputs": [],
   "source": [
    "working_df.rename(columns={\n",
    "    'Age-Adjusted Incidence Rate(�) - cases per 100,000': 'AAIRC',\n",
    "    'Average Annual Count': 'AAC',\n",
    "},\n",
    "                  inplace=True)\n"
   ]
  },
  {
   "cell_type": "code",
   "execution_count": 35,
   "metadata": {},
   "outputs": [
    {
     "data": {
      "text/plain": [
       "LinearRegression()"
      ]
     },
     "execution_count": 35,
     "metadata": {},
     "output_type": "execute_result"
    }
   ],
   "source": [
    "# working_df['AAIRC'].mean()\n",
    "# working_df.count()\n",
    "model = LinearRegression()\n",
    "X = np.array(working_df['AAIRC'])\n",
    "X = X.reshape(-1, 1)\n",
    "y = np.array(working_df['AAC'])\n",
    "model.fit(X, y)"
   ]
  },
  {
   "cell_type": "code",
   "execution_count": 38,
   "metadata": {},
   "outputs": [
    {
     "name": "stdout",
     "output_type": "stream",
     "text": [
      "[-2.74603591]\n",
      "350.1384922168056\n",
      "0.0001394308360382901\n"
     ]
    }
   ],
   "source": [
    "r_sq = model.score(X, y)\n",
    "print(model.coef_)\n",
    "print(model.intercept_)\n",
    "print(r_sq)"
   ]
  },
  {
   "cell_type": "code",
   "execution_count": null,
   "metadata": {},
   "outputs": [],
   "source": []
  }
 ],
 "metadata": {
  "interpreter": {
   "hash": "916dbcbb3f70747c44a77c7bcd40155683ae19c65e1c03b4aa3499c5328201f1"
  },
  "kernelspec": {
   "display_name": "Python 3.8.10 64-bit",
   "language": "python",
   "name": "python3"
  },
  "language_info": {
   "codemirror_mode": {
    "name": "ipython",
    "version": 3
   },
   "file_extension": ".py",
   "mimetype": "text/x-python",
   "name": "python",
   "nbconvert_exporter": "python",
   "pygments_lexer": "ipython3",
   "version": "3.8.10"
  },
  "orig_nbformat": 4
 },
 "nbformat": 4,
 "nbformat_minor": 2
}

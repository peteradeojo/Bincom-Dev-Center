{
 "cells": [
  {
   "cell_type": "code",
   "execution_count": 50,
   "metadata": {},
   "outputs": [],
   "source": [
    "class Fibonacci:\n",
    "\n",
    "    # Initialize the object with variables\n",
    "    def __init__(self):\n",
    "        self.__a = 1\n",
    "        self.__b = 1\n",
    "        # Initialize counter to track position in the series\n",
    "        self.__counter = 0\n",
    "        self.__bridge = 0\n",
    "\n",
    "    # get next number in the fibonacci series\n",
    "    def gen(self):\n",
    "        while True:\n",
    "            if self.__b == 1 and self.__counter < 2:\n",
    "                # Logic to account for first two numbers in the series\n",
    "                self.__counter += 1\n",
    "                yield (self.__a)\n",
    "            elif self.__counter >= 2:\n",
    "                self.__bridge = self.__a + self.__b\n",
    "                self.__a = self.__b\n",
    "                self.__b = self.__bridge\n",
    "                self.__counter += 1\n",
    "                yield self.__b\n",
    "\n",
    "    @property\n",
    "    def index(self):\n",
    "        return self.__counter\n",
    "\n",
    "    @property\n",
    "    def position(self):\n",
    "        return self.__b\n"
   ]
  },
  {
   "cell_type": "code",
   "execution_count": 55,
   "metadata": {},
   "outputs": [
    {
     "name": "stdout",
     "output_type": "stream",
     "text": [
      "1\n",
      "1\n",
      "2\n",
      "3\n",
      "5\n",
      "8\n",
      "13\n",
      "21\n"
     ]
    }
   ],
   "source": [
    "fib = Fibonacci()\n",
    "print(next(fib.gen()))\n",
    "print(next(fib.gen()))\n",
    "print(next(fib.gen()))\n",
    "print(next(fib.gen()))\n",
    "print(next(fib.gen()))\n",
    "print(next(fib.gen()))\n",
    "print(next(fib.gen()))\n",
    "print(next(fib.gen()))"
   ]
  }
 ],
 "metadata": {
  "interpreter": {
   "hash": "916dbcbb3f70747c44a77c7bcd40155683ae19c65e1c03b4aa3499c5328201f1"
  },
  "kernelspec": {
   "display_name": "Python 3.8.10 64-bit",
   "language": "python",
   "name": "python3"
  },
  "language_info": {
   "codemirror_mode": {
    "name": "ipython",
    "version": 3
   },
   "file_extension": ".py",
   "mimetype": "text/x-python",
   "name": "python",
   "nbconvert_exporter": "python",
   "pygments_lexer": "ipython3",
   "version": "3.8.10"
  },
  "orig_nbformat": 4
 },
 "nbformat": 4,
 "nbformat_minor": 2
}
